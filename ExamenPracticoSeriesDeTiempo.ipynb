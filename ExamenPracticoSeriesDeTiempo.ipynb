{
 "cells": [
  {
   "cell_type": "markdown",
   "metadata": {},
   "source": [
    "# Examen práctico Series de Tiempo\n",
    "## Mary Yuliana Jaramillo\n",
    "### Maestría en Ciencia de Datos - Semestre II\n",
    "### https://github.com/maryyuliana"
   ]
  },
  {
   "cell_type": "markdown",
   "metadata": {},
   "source": [
    "## 1. Carga de paquetes"
   ]
  },
  {
   "cell_type": "code",
   "execution_count": 9,
   "metadata": {},
   "outputs": [],
   "source": [
    "import numpy as np\n",
    "import pandas as pd # Operaciones con dataframes\n",
    "from matplotlib import pyplot as plt # gráficos\n",
    "from statsmodels.tsa.seasonal import seasonal_decompose # descomposición de series\n",
    "from statsmodels.tsa.holtwinters import SimpleExpSmoothing  # Holwinters simple\n",
    "from statsmodels.tsa.holtwinters import ExponentialSmoothing # Holwinters doble y tripe\n",
    "from statsmodels.tsa.exponential_smoothing.ets import ETSModel\n",
    "from sklearn.metrics import mean_squared_error\n",
    "from bayes_opt import BayesianOptimization\n",
    "from statsmodels.tsa.seasonal import seasonal_decompose"
   ]
  },
  {
   "cell_type": "markdown",
   "metadata": {},
   "source": [
    "## 2 Cargar de datos"
   ]
  },
  {
   "cell_type": "code",
   "execution_count": 25,
   "metadata": {},
   "outputs": [
    {
     "data": {
      "text/html": [
       "<div>\n",
       "<style scoped>\n",
       "    .dataframe tbody tr th:only-of-type {\n",
       "        vertical-align: middle;\n",
       "    }\n",
       "\n",
       "    .dataframe tbody tr th {\n",
       "        vertical-align: top;\n",
       "    }\n",
       "\n",
       "    .dataframe thead th {\n",
       "        text-align: right;\n",
       "    }\n",
       "</style>\n",
       "<table border=\"1\" class=\"dataframe\">\n",
       "  <thead>\n",
       "    <tr style=\"text-align: right;\">\n",
       "      <th></th>\n",
       "      <th>Mes</th>\n",
       "      <th>producto1</th>\n",
       "      <th>producto2</th>\n",
       "    </tr>\n",
       "  </thead>\n",
       "  <tbody>\n",
       "    <tr>\n",
       "      <th>0</th>\n",
       "      <td>1</td>\n",
       "      <td>4000.000000</td>\n",
       "      <td>3000.000000</td>\n",
       "    </tr>\n",
       "    <tr>\n",
       "      <th>1</th>\n",
       "      <td>2</td>\n",
       "      <td>3997.400893</td>\n",
       "      <td>3010.686220</td>\n",
       "    </tr>\n",
       "    <tr>\n",
       "      <th>2</th>\n",
       "      <td>3</td>\n",
       "      <td>3978.605317</td>\n",
       "      <td>3022.018584</td>\n",
       "    </tr>\n",
       "    <tr>\n",
       "      <th>3</th>\n",
       "      <td>4</td>\n",
       "      <td>3986.454125</td>\n",
       "      <td>3033.920990</td>\n",
       "    </tr>\n",
       "    <tr>\n",
       "      <th>4</th>\n",
       "      <td>5</td>\n",
       "      <td>3979.695678</td>\n",
       "      <td>3038.402098</td>\n",
       "    </tr>\n",
       "    <tr>\n",
       "      <th>...</th>\n",
       "      <td>...</td>\n",
       "      <td>...</td>\n",
       "      <td>...</td>\n",
       "    </tr>\n",
       "    <tr>\n",
       "      <th>122</th>\n",
       "      <td>123</td>\n",
       "      <td>3664.610771</td>\n",
       "      <td>3429.293034</td>\n",
       "    </tr>\n",
       "    <tr>\n",
       "      <th>123</th>\n",
       "      <td>124</td>\n",
       "      <td>3650.881839</td>\n",
       "      <td>3437.099467</td>\n",
       "    </tr>\n",
       "    <tr>\n",
       "      <th>124</th>\n",
       "      <td>125</td>\n",
       "      <td>3651.788470</td>\n",
       "      <td>3453.155282</td>\n",
       "    </tr>\n",
       "    <tr>\n",
       "      <th>125</th>\n",
       "      <td>126</td>\n",
       "      <td>3637.047639</td>\n",
       "      <td>3472.528345</td>\n",
       "    </tr>\n",
       "    <tr>\n",
       "      <th>126</th>\n",
       "      <td>127</td>\n",
       "      <td>3641.990873</td>\n",
       "      <td>3476.058092</td>\n",
       "    </tr>\n",
       "  </tbody>\n",
       "</table>\n",
       "<p>127 rows × 3 columns</p>\n",
       "</div>"
      ],
      "text/plain": [
       "     Mes    producto1    producto2\n",
       "0      1  4000.000000  3000.000000\n",
       "1      2  3997.400893  3010.686220\n",
       "2      3  3978.605317  3022.018584\n",
       "3      4  3986.454125  3033.920990\n",
       "4      5  3979.695678  3038.402098\n",
       "..   ...          ...          ...\n",
       "122  123  3664.610771  3429.293034\n",
       "123  124  3650.881839  3437.099467\n",
       "124  125  3651.788470  3453.155282\n",
       "125  126  3637.047639  3472.528345\n",
       "126  127  3641.990873  3476.058092\n",
       "\n",
       "[127 rows x 3 columns]"
      ]
     },
     "execution_count": 25,
     "metadata": {},
     "output_type": "execute_result"
    }
   ],
   "source": [
    "url =\"https://raw.githubusercontent.com/maryyuliana/FUNDAMENTOS_DE_ANALITICA_II/master/Examen.csv\"\n",
    "df = pd.read_csv(url, delimiter=',')\n",
    "df = df.rename(columns={\"Unnamed: 0\": \"Mes\"})\n",
    "df"
   ]
  },
  {
   "cell_type": "markdown",
   "metadata": {},
   "source": [
    "## 3.Análisis gráfico de la serie"
   ]
  },
  {
   "cell_type": "markdown",
   "metadata": {},
   "source": [
    "### 3.1 Gráfico de las series"
   ]
  },
  {
   "cell_type": "code",
   "execution_count": 23,
   "metadata": {},
   "outputs": [
    {
     "data": {
      "image/png": "[encoded data removed]",
      "text/plain": [
       "<Figure size 600x400 with 1 Axes>"
      ]
     },
     "metadata": {},
     "output_type": "display_data"
    }
   ],
   "source": [
    "df['Mes'] = pd.to_datetime(df['Mes'])\n",
    "\n",
    "# Graficar las dos series de tiempo\n",
    "plt.figure(figsize=(6, 4))  # Definir tamaño de la figura\n",
    "plt.plot(df['Mes'], df['producto1'], label='Producto 1')\n",
    "plt.plot(df['Mes'], df['producto2'], label='Producto 2')\n",
    "\n",
    "# Añadir etiquetas y título\n",
    "plt.xlabel('Mes')\n",
    "plt.ylabel('Valor')\n",
    "plt.title('Series de tiempo productos')\n",
    "plt.grid(True)  # Agregar cuadrícula\n",
    "plt.legend()  # Mostrar leyenda\n",
    "\n",
    "# Mostrar la gráfica\n",
    "plt.show()"
   ]
  },
  {
   "cell_type": "markdown",
   "metadata": {},
   "source": [
    "### 3.2 Descomposición de las series de tiempo"
   ]
  },
  {
   "cell_type": "code",
   "execution_count": 24,
   "metadata": {},
   "outputs": [
    {
     "ename": "ValueError",
     "evalue": "freq N not understood. Please report if you think this is in error.",
     "output_type": "error",
     "traceback": [
      "\u001b[1;31m---------------------------------------------------------------------------\u001b[0m",
      "\u001b[1;31mValueError\u001b[0m                                Traceback (most recent call last)",
      "Cell \u001b[1;32mIn[24], line 11\u001b[0m\n\u001b[0;32m      8\u001b[0m freq \u001b[38;5;241m=\u001b[39m pd\u001b[38;5;241m.\u001b[39minfer_freq(df\u001b[38;5;241m.\u001b[39mindex)\n\u001b[0;32m     10\u001b[0m \u001b[38;5;66;03m# Realizar la descomposición estacional con la frecuencia calculada\u001b[39;00m\n\u001b[1;32m---> 11\u001b[0m td_componentes \u001b[38;5;241m=\u001b[39m \u001b[43mseasonal_decompose\u001b[49m\u001b[43m(\u001b[49m\u001b[43mdf\u001b[49m\u001b[43m[\u001b[49m\u001b[38;5;124;43m'\u001b[39;49m\u001b[38;5;124;43mproducto1\u001b[39;49m\u001b[38;5;124;43m'\u001b[39;49m\u001b[43m]\u001b[49m\u001b[43m,\u001b[49m\u001b[43m \u001b[49m\u001b[43mmodel\u001b[49m\u001b[38;5;241;43m=\u001b[39;49m\u001b[38;5;124;43m\"\u001b[39;49m\u001b[38;5;124;43madditive\u001b[39;49m\u001b[38;5;124;43m\"\u001b[39;49m\u001b[43m)\u001b[49m\n\u001b[0;32m     13\u001b[0m \u001b[38;5;66;03m# Graficar los componentes\u001b[39;00m\n\u001b[0;32m     14\u001b[0m fig \u001b[38;5;241m=\u001b[39m td_componentes\u001b[38;5;241m.\u001b[39mplot()\n",
      "File \u001b[1;32mc:\\Users\\yulia\\AppData\\Local\\Programs\\Python\\Python311\\Lib\\site-packages\\statsmodels\\tsa\\seasonal.py:163\u001b[0m, in \u001b[0;36mseasonal_decompose\u001b[1;34m(x, model, filt, period, two_sided, extrapolate_trend)\u001b[0m\n\u001b[0;32m    161\u001b[0m \u001b[38;5;28;01mif\u001b[39;00m period \u001b[38;5;129;01mis\u001b[39;00m \u001b[38;5;28;01mNone\u001b[39;00m:\n\u001b[0;32m    162\u001b[0m     \u001b[38;5;28;01mif\u001b[39;00m pfreq \u001b[38;5;129;01mis\u001b[39;00m \u001b[38;5;129;01mnot\u001b[39;00m \u001b[38;5;28;01mNone\u001b[39;00m:\n\u001b[1;32m--> 163\u001b[0m         pfreq \u001b[38;5;241m=\u001b[39m \u001b[43mfreq_to_period\u001b[49m\u001b[43m(\u001b[49m\u001b[43mpfreq\u001b[49m\u001b[43m)\u001b[49m\n\u001b[0;32m    164\u001b[0m         period \u001b[38;5;241m=\u001b[39m pfreq\n\u001b[0;32m    165\u001b[0m     \u001b[38;5;28;01melse\u001b[39;00m:\n",
      "File \u001b[1;32mc:\\Users\\yulia\\AppData\\Local\\Programs\\Python\\Python311\\Lib\\site-packages\\statsmodels\\tsa\\tsatools.py:822\u001b[0m, in \u001b[0;36mfreq_to_period\u001b[1;34m(freq)\u001b[0m\n\u001b[0;32m    820\u001b[0m     \u001b[38;5;28;01mreturn\u001b[39;00m \u001b[38;5;241m24\u001b[39m\n\u001b[0;32m    821\u001b[0m \u001b[38;5;28;01melse\u001b[39;00m:  \u001b[38;5;66;03m# pragma : no cover\u001b[39;00m\n\u001b[1;32m--> 822\u001b[0m     \u001b[38;5;28;01mraise\u001b[39;00m \u001b[38;5;167;01mValueError\u001b[39;00m(\n\u001b[0;32m    823\u001b[0m         \u001b[38;5;124m\"\u001b[39m\u001b[38;5;124mfreq \u001b[39m\u001b[38;5;132;01m{}\u001b[39;00m\u001b[38;5;124m not understood. Please report if you \u001b[39m\u001b[38;5;124m\"\u001b[39m\n\u001b[0;32m    824\u001b[0m         \u001b[38;5;124m\"\u001b[39m\u001b[38;5;124mthink this is in error.\u001b[39m\u001b[38;5;124m\"\u001b[39m\u001b[38;5;241m.\u001b[39mformat(freq)\n\u001b[0;32m    825\u001b[0m     )\n",
      "\u001b[1;31mValueError\u001b[0m: freq N not understood. Please report if you think this is in error."
     ]
    }
   ],
   "source": [
    "\n",
    "\n",
    "# Convertir la columna 'Mes' en tipo datetime\n",
    "df['Mes'] = pd.to_datetime(df['Mes'])\n",
    "\n",
    "# Establecer la columna 'Mes' como índice\n",
    "df.set_index('Mes', inplace=True)\n",
    "\n",
    "# Calcular la frecuencia de los datos\n",
    "freq = pd.infer_freq(df.index)\n",
    "\n",
    "# Realizar la descomposición estacional con la frecuencia calculada\n",
    "td_componentes = seasonal_decompose(df['producto1'], model=\"additive\")\n",
    "\n",
    "# Graficar los componentes\n",
    "fig = td_componentes.plot()\n",
    "fig.set_size_inches((16, 9))\n",
    "fig.tight_layout()\n",
    "plt.show()"
   ]
  }
 ],
 "metadata": {
  "kernelspec": {
   "display_name": "Python 3",
   "language": "python",
   "name": "python3"
  },
  "language_info": {
   "codemirror_mode": {
    "name": "ipython",
    "version": 3
   },
   "file_extension": ".py",
   "mimetype": "text/x-python",
   "name": "python",
   "nbconvert_exporter": "python",
   "pygments_lexer": "ipython3",
   "version": "3.11.5"
  }
 },
 "nbformat": 4,
 "nbformat_minor": 2
}
