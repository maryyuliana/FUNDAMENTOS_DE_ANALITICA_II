{
 "cells": [
  {
   "cell_type": "markdown",
   "metadata": {},
   "source": [
    "# Examen práctico Series de Tiempo\n",
    "## Mary Yuliana Jaramillo\n",
    "### Maestría en Ciencia de Datos - Semestre II\n",
    "### https://github.com/maryyuliana"
   ]
  },
  {
   "cell_type": "markdown",
   "metadata": {},
   "source": [
    "## 1. Carga de paquetes"
   ]
  },
  {
   "cell_type": "code",
   "execution_count": 2,
   "metadata": {},
   "outputs": [],
   "source": [
    "import numpy as np\n",
    "import pandas as pd # Operaciones con dataframes\n",
    "from matplotlib import pyplot as plt # gráficos\n",
    "from statsmodels.tsa.seasonal import seasonal_decompose # descomposición de series\n",
    "from statsmodels.tsa.holtwinters import SimpleExpSmoothing  # Holwinters simple\n",
    "from statsmodels.tsa.holtwinters import ExponentialSmoothing # Holwinters doble y tripe\n",
    "from statsmodels.tsa.exponential_smoothing.ets import ETSModel\n",
    "from sklearn.metrics import mean_squared_error\n",
    "from bayes_opt import BayesianOptimization"
   ]
  },
  {
   "cell_type": "markdown",
   "metadata": {},
   "source": [
    "## 2 Cargar de datos"
   ]
  },
  {
   "cell_type": "code",
   "execution_count": null,
   "metadata": {},
   "outputs": [],
   "source": [
    "\n",
    "data = pd.read_excel(\"/content/datosEmpleo.xlsx\",index_col='mes',parse_dates=True)\n",
    "data.head()"
   ]
  }
 ],
 "metadata": {
  "kernelspec": {
   "display_name": "Python 3",
   "language": "python",
   "name": "python3"
  },
  "language_info": {
   "codemirror_mode": {
    "name": "ipython",
    "version": 3
   },
   "file_extension": ".py",
   "mimetype": "text/x-python",
   "name": "python",
   "nbconvert_exporter": "python",
   "pygments_lexer": "ipython3",
   "version": "3.11.5"
  }
 },
 "nbformat": 4,
 "nbformat_minor": 2
}
